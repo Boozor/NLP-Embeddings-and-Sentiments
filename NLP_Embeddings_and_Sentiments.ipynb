{
  "nbformat": 4,
  "nbformat_minor": 0,
  "metadata": {
    "colab": {
      "name": "NLP Embeddings and Sentiments.ipynb",
      "provenance": [],
      "authorship_tag": "ABX9TyNBCCxbaob2S2YMjQyjkk3g",
      "include_colab_link": true
    },
    "kernelspec": {
      "name": "python3",
      "display_name": "Python 3"
    },
    "language_info": {
      "name": "python"
    }
  },
  "cells": [
    {
      "cell_type": "markdown",
      "metadata": {
        "id": "view-in-github",
        "colab_type": "text"
      },
      "source": [
        "<a href=\"https://colab.research.google.com/github/LeoVal1/NLP-Embeddings-and-Sentiments/blob/main/NLP_Embeddings_and_Sentiments.ipynb\" target=\"_parent\"><img src=\"https://colab.research.google.com/assets/colab-badge.svg\" alt=\"Open In Colab\"/></a>"
      ]
    },
    {
      "cell_type": "markdown",
      "metadata": {
        "id": "wqvz1jVgbwIN"
      },
      "source": [
        "## Import TensorFlow and related functions"
      ]
    },
    {
      "cell_type": "code",
      "execution_count": 1,
      "metadata": {
        "id": "XIG52aKPdpux"
      },
      "outputs": [],
      "source": [
        "import tensorflow as tf\n",
        "\n",
        "from tensorflow.keras.preprocessing.text import Tokenizer\n",
        "from tensorflow.keras.preprocessing.sequence import pad_sequences"
      ]
    },
    {
      "cell_type": "markdown",
      "metadata": {
        "id": "pazU5OmxehIA"
      },
      "source": [
        "## Get the dataset\n",
        "\n",
        "We're going to use a dataset containing Amazon and Yelp reviews, with their related sentiment (1 for positive, 0 for negative). This dataset was originally extracted from [here](https://www.kaggle.com/marklvl/sentiment-labelled-sentences-data-set)."
      ]
    },
    {
      "cell_type": "code",
      "execution_count": 2,
      "metadata": {
        "id": "qpwQT2E9ez5B",
        "colab": {
          "base_uri": "https://localhost:8080/"
        },
        "outputId": "8ea5433b-64ce-46e2-e93f-de893a714fac"
      },
      "outputs": [
        {
          "output_type": "stream",
          "name": "stdout",
          "text": [
            "--2022-07-23 22:55:07--  https://drive.google.com/uc?id=13ySLC_ue6Umt9RJYSeM2t-V0kCv-4C-P\n",
            "Resolving drive.google.com (drive.google.com)... 172.253.123.113, 172.253.123.102, 172.253.123.139, ...\n",
            "Connecting to drive.google.com (drive.google.com)|172.253.123.113|:443... connected.\n",
            "HTTP request sent, awaiting response... 303 See Other\n",
            "Location: https://doc-08-ak-docs.googleusercontent.com/docs/securesc/ha0ro937gcuc7l7deffksulhg5h7mbp1/g9kp7lbg9gfka3d7i8ueapb43opkdir5/1658616900000/11118900490791463723/*/13ySLC_ue6Umt9RJYSeM2t-V0kCv-4C-P?uuid=b3f89c7c-d983-4a5e-bd92-65cc5f4d95e2 [following]\n",
            "Warning: wildcards not supported in HTTP.\n",
            "--2022-07-23 22:55:08--  https://doc-08-ak-docs.googleusercontent.com/docs/securesc/ha0ro937gcuc7l7deffksulhg5h7mbp1/g9kp7lbg9gfka3d7i8ueapb43opkdir5/1658616900000/11118900490791463723/*/13ySLC_ue6Umt9RJYSeM2t-V0kCv-4C-P?uuid=b3f89c7c-d983-4a5e-bd92-65cc5f4d95e2\n",
            "Resolving doc-08-ak-docs.googleusercontent.com (doc-08-ak-docs.googleusercontent.com)... 173.194.217.132, 2607:f8b0:400c:c13::84\n",
            "Connecting to doc-08-ak-docs.googleusercontent.com (doc-08-ak-docs.googleusercontent.com)|173.194.217.132|:443... connected.\n",
            "HTTP request sent, awaiting response... 200 OK\n",
            "Length: 127831 (125K) [text/csv]\n",
            "Saving to: ‘/tmp/sentiment.csv’\n",
            "\n",
            "/tmp/sentiment.csv  100%[===================>] 124.83K  --.-KB/s    in 0.001s  \n",
            "\n",
            "2022-07-23 22:55:08 (113 MB/s) - ‘/tmp/sentiment.csv’ saved [127831/127831]\n",
            "\n"
          ]
        }
      ],
      "source": [
        "!wget --no-check-certificate \\\n",
        "    -O /tmp/sentiment.csv https://drive.google.com/uc?id=13ySLC_ue6Umt9RJYSeM2t-V0kCv-4C-P"
      ]
    },
    {
      "cell_type": "code",
      "execution_count": 3,
      "metadata": {
        "id": "6Zvp9NScfMnw"
      },
      "outputs": [],
      "source": [
        "import numpy as np\n",
        "import pandas as pd\n",
        "\n",
        "dataset = pd.read_csv('/tmp/sentiment.csv')\n",
        "\n",
        "sentences = dataset['text'].tolist()\n",
        "labels = dataset['sentiment'].tolist()\n",
        "\n",
        "# Separate out the sentences and labels into training and test sets\n",
        "training_size = int(len(sentences) * 0.8)\n",
        "\n",
        "training_sentences = sentences[0:training_size]\n",
        "testing_sentences = sentences[training_size:]\n",
        "training_labels = labels[0:training_size]\n",
        "testing_labels = labels[training_size:]\n",
        "\n",
        "# Make labels into numpy arrays for use with the network later\n",
        "training_labels_final = np.array(training_labels)\n",
        "testing_labels_final = np.array(testing_labels)"
      ]
    },
    {
      "cell_type": "markdown",
      "metadata": {
        "id": "NHpvqaSigcST"
      },
      "source": [
        "## Tokenize the dataset\n",
        "\n",
        "Tokenize the dataset, including padding and OOV"
      ]
    },
    {
      "cell_type": "code",
      "execution_count": 20,
      "metadata": {
        "id": "78icewYRgfxh"
      },
      "outputs": [],
      "source": [
        "vocab_size = 1000\n",
        "embedding_dim = 16\n",
        "#max_length = 100\n",
        "max_length = 50\n",
        "trunc_type='post'\n",
        "padding_type='post'\n",
        "oov_tok = \"<OOV>\"\n",
        "\n",
        "\n",
        "from tensorflow.keras.preprocessing.text import Tokenizer\n",
        "from tensorflow.keras.preprocessing.sequence import pad_sequences\n",
        "\n",
        "tokenizer = Tokenizer(num_words = vocab_size, oov_token=oov_tok)\n",
        "tokenizer.fit_on_texts(training_sentences)\n",
        "word_index = tokenizer.word_index\n",
        "training_sequences = tokenizer.texts_to_sequences(training_sentences)\n",
        "training_padded = pad_sequences(training_sequences,maxlen=max_length, padding=padding_type, \n",
        "                       truncating=trunc_type)\n",
        "\n",
        "testing_sequences = tokenizer.texts_to_sequences(testing_sentences)\n",
        "testing_padded = pad_sequences(testing_sequences,maxlen=max_length, \n",
        "                               padding=padding_type, truncating=trunc_type)"
      ]
    },
    {
      "cell_type": "markdown",
      "metadata": {
        "id": "q4yIEk_8kszh"
      },
      "source": [
        "## Review a Sequence\n",
        "\n",
        "Let's quickly take a look at one of the padded sequences to ensure everything above worked appropriately."
      ]
    },
    {
      "cell_type": "code",
      "execution_count": 21,
      "metadata": {
        "id": "JTU3FmVGk100",
        "colab": {
          "base_uri": "https://localhost:8080/"
        },
        "outputId": "fe9941ab-0481-4911-cbfc-952c91325685"
      },
      "outputs": [
        {
          "output_type": "stream",
          "name": "stdout",
          "text": [
            "good case excellent value 0 0 0 0 0 0 0 0 0 0 0 0 0 0 0 0 0 0 0 0 0 0 0 0 0 0 0 0 0 0 0 0 0 0 0 0 0 0 0 0 0 0 0 0 0 0\n",
            "Good case Excellent value.\n"
          ]
        }
      ],
      "source": [
        "reverse_word_index = dict([(value, key) for (key, value) in word_index.items()])\n",
        "\n",
        "def decode_review(text):\n",
        "    return ' '.join([reverse_word_index.get(i, '0') for i in text])\n",
        "\n",
        "print(decode_review(padded[1]))\n",
        "print(training_sentences[1])"
      ]
    },
    {
      "cell_type": "markdown",
      "metadata": {
        "id": "RI91liJnlA92"
      },
      "source": [
        "## Train a Basic Sentiment Model with Embeddings"
      ]
    },
    {
      "cell_type": "code",
      "execution_count": 22,
      "metadata": {
        "id": "bBMgzp-_lMTp",
        "colab": {
          "base_uri": "https://localhost:8080/"
        },
        "outputId": "3498776b-ba2a-467c-8c00-9971547740fd"
      },
      "outputs": [
        {
          "output_type": "stream",
          "name": "stdout",
          "text": [
            "Model: \"sequential_2\"\n",
            "_________________________________________________________________\n",
            " Layer (type)                Output Shape              Param #   \n",
            "=================================================================\n",
            " embedding_2 (Embedding)     (None, 50, 16)            16000     \n",
            "                                                                 \n",
            " global_average_pooling1d_1   (None, 16)               0         \n",
            " (GlobalAveragePooling1D)                                        \n",
            "                                                                 \n",
            " dense_4 (Dense)             (None, 6)                 102       \n",
            "                                                                 \n",
            " dense_5 (Dense)             (None, 1)                 7         \n",
            "                                                                 \n",
            "=================================================================\n",
            "Total params: 16,109\n",
            "Trainable params: 16,109\n",
            "Non-trainable params: 0\n",
            "_________________________________________________________________\n"
          ]
        }
      ],
      "source": [
        "# Build a basic sentiment network\n",
        "# Note the embedding layer is first, \n",
        "# and the output is only 1 node as it is either 0 or 1 (negative or positive)\n",
        "model = tf.keras.Sequential([\n",
        "    tf.keras.layers.Embedding(vocab_size, embedding_dim, input_length=max_length),\n",
        "    #tf.keras.layers.Flatten(),\n",
        "    tf.keras.layers.GlobalAveragePooling1D(),\n",
        "    tf.keras.layers.Dense(6, activation='relu'),\n",
        "    tf.keras.layers.Dense(1, activation='sigmoid')\n",
        "])\n",
        "model.compile(loss='binary_crossentropy',optimizer='adam',metrics=['accuracy'])\n",
        "model.summary()"
      ]
    },
    {
      "cell_type": "code",
      "execution_count": 23,
      "metadata": {
        "id": "Pfl1W-zVldpn",
        "colab": {
          "base_uri": "https://localhost:8080/"
        },
        "outputId": "ba388908-ad42-4178-d63b-2e6e819295d2"
      },
      "outputs": [
        {
          "output_type": "stream",
          "name": "stdout",
          "text": [
            "Epoch 1/30\n",
            "50/50 [==============================] - 1s 5ms/step - loss: 0.6929 - accuracy: 0.5417 - val_loss: 0.6931 - val_accuracy: 0.4411\n",
            "Epoch 2/30\n",
            "50/50 [==============================] - 0s 3ms/step - loss: 0.6908 - accuracy: 0.6409 - val_loss: 0.6893 - val_accuracy: 0.7143\n",
            "Epoch 3/30\n",
            "50/50 [==============================] - 0s 3ms/step - loss: 0.6876 - accuracy: 0.7439 - val_loss: 0.6870 - val_accuracy: 0.7544\n",
            "Epoch 4/30\n",
            "50/50 [==============================] - 0s 3ms/step - loss: 0.6821 - accuracy: 0.7941 - val_loss: 0.6785 - val_accuracy: 0.6642\n",
            "Epoch 5/30\n",
            "50/50 [==============================] - 0s 3ms/step - loss: 0.6747 - accuracy: 0.7294 - val_loss: 0.6717 - val_accuracy: 0.7218\n",
            "Epoch 6/30\n",
            "50/50 [==============================] - 0s 3ms/step - loss: 0.6643 - accuracy: 0.7232 - val_loss: 0.6588 - val_accuracy: 0.6742\n",
            "Epoch 7/30\n",
            "50/50 [==============================] - 0s 3ms/step - loss: 0.6505 - accuracy: 0.7646 - val_loss: 0.6472 - val_accuracy: 0.7143\n",
            "Epoch 8/30\n",
            "50/50 [==============================] - 0s 3ms/step - loss: 0.6335 - accuracy: 0.7847 - val_loss: 0.6332 - val_accuracy: 0.7293\n",
            "Epoch 9/30\n",
            "50/50 [==============================] - 0s 3ms/step - loss: 0.6145 - accuracy: 0.7884 - val_loss: 0.6189 - val_accuracy: 0.7393\n",
            "Epoch 10/30\n",
            "50/50 [==============================] - 0s 3ms/step - loss: 0.5941 - accuracy: 0.8067 - val_loss: 0.6022 - val_accuracy: 0.7318\n",
            "Epoch 11/30\n",
            "50/50 [==============================] - 0s 3ms/step - loss: 0.5717 - accuracy: 0.8236 - val_loss: 0.5944 - val_accuracy: 0.7769\n",
            "Epoch 12/30\n",
            "50/50 [==============================] - 0s 3ms/step - loss: 0.5494 - accuracy: 0.8330 - val_loss: 0.5833 - val_accuracy: 0.7870\n",
            "Epoch 13/30\n",
            "50/50 [==============================] - 0s 3ms/step - loss: 0.5277 - accuracy: 0.8619 - val_loss: 0.5611 - val_accuracy: 0.7419\n",
            "Epoch 14/30\n",
            "50/50 [==============================] - 0s 3ms/step - loss: 0.5062 - accuracy: 0.8569 - val_loss: 0.5530 - val_accuracy: 0.7820\n",
            "Epoch 15/30\n",
            "50/50 [==============================] - 0s 3ms/step - loss: 0.4848 - accuracy: 0.8719 - val_loss: 0.5523 - val_accuracy: 0.8120\n",
            "Epoch 16/30\n",
            "50/50 [==============================] - 0s 3ms/step - loss: 0.4637 - accuracy: 0.8845 - val_loss: 0.5377 - val_accuracy: 0.8095\n",
            "Epoch 17/30\n",
            "50/50 [==============================] - 0s 3ms/step - loss: 0.4403 - accuracy: 0.9008 - val_loss: 0.5222 - val_accuracy: 0.8145\n",
            "Epoch 18/30\n",
            "50/50 [==============================] - 0s 3ms/step - loss: 0.4186 - accuracy: 0.9090 - val_loss: 0.5116 - val_accuracy: 0.8145\n",
            "Epoch 19/30\n",
            "50/50 [==============================] - 0s 3ms/step - loss: 0.3983 - accuracy: 0.9146 - val_loss: 0.5043 - val_accuracy: 0.8170\n",
            "Epoch 20/30\n",
            "50/50 [==============================] - 0s 3ms/step - loss: 0.3793 - accuracy: 0.9253 - val_loss: 0.4950 - val_accuracy: 0.8045\n",
            "Epoch 21/30\n",
            "50/50 [==============================] - 0s 3ms/step - loss: 0.3627 - accuracy: 0.9259 - val_loss: 0.4919 - val_accuracy: 0.8145\n",
            "Epoch 22/30\n",
            "50/50 [==============================] - 0s 2ms/step - loss: 0.3466 - accuracy: 0.9316 - val_loss: 0.4870 - val_accuracy: 0.8070\n",
            "Epoch 23/30\n",
            "50/50 [==============================] - 0s 3ms/step - loss: 0.3309 - accuracy: 0.9404 - val_loss: 0.4851 - val_accuracy: 0.7970\n",
            "Epoch 24/30\n",
            "50/50 [==============================] - 0s 3ms/step - loss: 0.3164 - accuracy: 0.9391 - val_loss: 0.4770 - val_accuracy: 0.8120\n",
            "Epoch 25/30\n",
            "50/50 [==============================] - 0s 3ms/step - loss: 0.3030 - accuracy: 0.9441 - val_loss: 0.4757 - val_accuracy: 0.8095\n",
            "Epoch 26/30\n",
            "50/50 [==============================] - 0s 3ms/step - loss: 0.2900 - accuracy: 0.9504 - val_loss: 0.4853 - val_accuracy: 0.7920\n",
            "Epoch 27/30\n",
            "50/50 [==============================] - 0s 3ms/step - loss: 0.2795 - accuracy: 0.9517 - val_loss: 0.4734 - val_accuracy: 0.7945\n",
            "Epoch 28/30\n",
            "50/50 [==============================] - 0s 3ms/step - loss: 0.2691 - accuracy: 0.9548 - val_loss: 0.4706 - val_accuracy: 0.7995\n",
            "Epoch 29/30\n",
            "50/50 [==============================] - 0s 3ms/step - loss: 0.2574 - accuracy: 0.9592 - val_loss: 0.4718 - val_accuracy: 0.7995\n",
            "Epoch 30/30\n",
            "50/50 [==============================] - 0s 3ms/step - loss: 0.2480 - accuracy: 0.9636 - val_loss: 0.4735 - val_accuracy: 0.7945\n"
          ]
        }
      ],
      "source": [
        "num_epochs = 30\n",
        "history = model.fit(training_padded, training_labels_final, epochs=num_epochs, validation_data=(testing_padded, testing_labels_final))"
      ]
    },
    {
      "cell_type": "markdown",
      "metadata": {
        "id": "alAlYort7gWV"
      },
      "source": [
        "## Visualize the training graph\n",
        "\n",
        "You can use the code below to visualize the training and validation accuracy while you try out different tweaks to the hyperparameters and model."
      ]
    },
    {
      "cell_type": "code",
      "execution_count": 24,
      "metadata": {
        "id": "o9l5vBeU71vH",
        "colab": {
          "base_uri": "https://localhost:8080/",
          "height": 541
        },
        "outputId": "114a5da7-41bc-444a-cb5a-f4643a2adca1"
      },
      "outputs": [
        {
          "output_type": "display_data",
          "data": {
            "text/plain": [
              "<Figure size 432x288 with 1 Axes>"
            ],
            "image/png": "[encoded data removed]"
          },
          "metadata": {
            "needs_background": "light"
          }
        },
        {
          "output_type": "display_data",
          "data": {
            "text/plain": [
              "<Figure size 432x288 with 1 Axes>"
            ],
            "image/png": "[encoded data removed]"
          },
          "metadata": {
            "needs_background": "light"
          }
        }
      ],
      "source": [
        "import matplotlib.pyplot as plt\n",
        "\n",
        "\n",
        "def plot_graphs(history, string):\n",
        "  plt.plot(history.history[string])\n",
        "  plt.plot(history.history['val_'+string])\n",
        "  plt.xlabel(\"Epochs\")\n",
        "  plt.ylabel(string)\n",
        "  plt.legend([string, 'val_'+string])\n",
        "  plt.show()\n",
        "  \n",
        "plot_graphs(history, \"accuracy\")\n",
        "plot_graphs(history, \"loss\")"
      ]
    },
    {
      "cell_type": "markdown",
      "metadata": {
        "id": "GjMZ4ZFQl_48"
      },
      "source": [
        "## Get files for visualizing the network\n",
        "\n",
        "The code below will download two files for visualizing how your network \"sees\" the sentiment related to each word. Head to http://projector.tensorflow.org/ and load these files, then click the \"Sphereize\" checkbox."
      ]
    },
    {
      "cell_type": "code",
      "execution_count": 25,
      "metadata": {
        "id": "S2lB46FirAVx",
        "colab": {
          "base_uri": "https://localhost:8080/"
        },
        "outputId": "31322425-06ea-4114-c553-684798175f96"
      },
      "outputs": [
        {
          "output_type": "stream",
          "name": "stdout",
          "text": [
            "(1000, 16)\n"
          ]
        }
      ],
      "source": [
        "# First get the weights of the embedding layer\n",
        "e = model.layers[0]\n",
        "weights = e.get_weights()[0]\n",
        "print(weights.shape) # shape: (vocab_size, embedding_dim)"
      ]
    },
    {
      "cell_type": "code",
      "execution_count": 26,
      "metadata": {
        "id": "Xcha0oGemHX2"
      },
      "outputs": [],
      "source": [
        "import io\n",
        "\n",
        "# Write out the embedding vectors and metadata\n",
        "out_v = io.open('vecs.tsv', 'w', encoding='utf-8')\n",
        "out_m = io.open('meta.tsv', 'w', encoding='utf-8')\n",
        "for word_num in range(1, vocab_size):\n",
        "  word = reverse_word_index[word_num]\n",
        "  embeddings = weights[word_num]\n",
        "  out_m.write(word + \"\\n\")\n",
        "  out_v.write('\\t'.join([str(x) for x in embeddings]) + \"\\n\")\n",
        "out_v.close()\n",
        "out_m.close()"
      ]
    },
    {
      "cell_type": "code",
      "execution_count": 27,
      "metadata": {
        "id": "g-Q6ALywmWVz",
        "colab": {
          "base_uri": "https://localhost:8080/",
          "height": 17
        },
        "outputId": "6ff7f6aa-67e9-4e39-92e7-e472233b6d76"
      },
      "outputs": [
        {
          "output_type": "display_data",
          "data": {
            "text/plain": [
              "<IPython.core.display.Javascript object>"
            ],
            "application/javascript": [
              "\n",
              "    async function download(id, filename, size) {\n",
              "      if (!google.colab.kernel.accessAllowed) {\n",
              "        return;\n",
              "      }\n",
              "      const div = document.createElement('div');\n",
              "      const label = document.createElement('label');\n",
              "      label.textContent = `Downloading \"${filename}\": `;\n",
              "      div.appendChild(label);\n",
              "      const progress = document.createElement('progress');\n",
              "      progress.max = size;\n",
              "      div.appendChild(progress);\n",
              "      document.body.appendChild(div);\n",
              "\n",
              "      const buffers = [];\n",
              "      let downloaded = 0;\n",
              "\n",
              "      const channel = await google.colab.kernel.comms.open(id);\n",
              "      // Send a message to notify the kernel that we're ready.\n",
              "      channel.send({})\n",
              "\n",
              "      for await (const message of channel.messages) {\n",
              "        // Send a message to notify the kernel that we're ready.\n",
              "        channel.send({})\n",
              "        if (message.buffers) {\n",
              "          for (const buffer of message.buffers) {\n",
              "            buffers.push(buffer);\n",
              "            downloaded += buffer.byteLength;\n",
              "            progress.value = downloaded;\n",
              "          }\n",
              "        }\n",
              "      }\n",
              "      const blob = new Blob(buffers, {type: 'application/binary'});\n",
              "      const a = document.createElement('a');\n",
              "      a.href = window.URL.createObjectURL(blob);\n",
              "      a.download = filename;\n",
              "      div.appendChild(a);\n",
              "      a.click();\n",
              "      div.remove();\n",
              "    }\n",
              "  "
            ]
          },
          "metadata": {}
        },
        {
          "output_type": "display_data",
          "data": {
            "text/plain": [
              "<IPython.core.display.Javascript object>"
            ],
            "application/javascript": [
              "download(\"download_2141b965-b31e-4aa0-b135-18966e7bb970\", \"vecs.tsv\", 183797)"
            ]
          },
          "metadata": {}
        },
        {
          "output_type": "display_data",
          "data": {
            "text/plain": [
              "<IPython.core.display.Javascript object>"
            ],
            "application/javascript": [
              "\n",
              "    async function download(id, filename, size) {\n",
              "      if (!google.colab.kernel.accessAllowed) {\n",
              "        return;\n",
              "      }\n",
              "      const div = document.createElement('div');\n",
              "      const label = document.createElement('label');\n",
              "      label.textContent = `Downloading \"${filename}\": `;\n",
              "      div.appendChild(label);\n",
              "      const progress = document.createElement('progress');\n",
              "      progress.max = size;\n",
              "      div.appendChild(progress);\n",
              "      document.body.appendChild(div);\n",
              "\n",
              "      const buffers = [];\n",
              "      let downloaded = 0;\n",
              "\n",
              "      const channel = await google.colab.kernel.comms.open(id);\n",
              "      // Send a message to notify the kernel that we're ready.\n",
              "      channel.send({})\n",
              "\n",
              "      for await (const message of channel.messages) {\n",
              "        // Send a message to notify the kernel that we're ready.\n",
              "        channel.send({})\n",
              "        if (message.buffers) {\n",
              "          for (const buffer of message.buffers) {\n",
              "            buffers.push(buffer);\n",
              "            downloaded += buffer.byteLength;\n",
              "            progress.value = downloaded;\n",
              "          }\n",
              "        }\n",
              "      }\n",
              "      const blob = new Blob(buffers, {type: 'application/binary'});\n",
              "      const a = document.createElement('a');\n",
              "      a.href = window.URL.createObjectURL(blob);\n",
              "      a.download = filename;\n",
              "      div.appendChild(a);\n",
              "      a.click();\n",
              "      div.remove();\n",
              "    }\n",
              "  "
            ]
          },
          "metadata": {}
        },
        {
          "output_type": "display_data",
          "data": {
            "text/plain": [
              "<IPython.core.display.Javascript object>"
            ],
            "application/javascript": [
              "download(\"download_9f605252-0abc-4a8a-b9a8-aeb2d98376cf\", \"meta.tsv\", 6617)"
            ]
          },
          "metadata": {}
        }
      ],
      "source": [
        "# Download the files\n",
        "try:\n",
        "  from google.colab import files\n",
        "except ImportError:\n",
        "  pass\n",
        "else:\n",
        "  files.download('vecs.tsv')\n",
        "  files.download('meta.tsv')"
      ]
    },
    {
      "cell_type": "markdown",
      "metadata": {
        "id": "GNoxfY-i3Ir1"
      },
      "source": [
        "## Predicting Sentiment in New Reviews\n",
        "\n",
        "Now that you've trained and visualized your network, take a look below at how we can predict sentiment in new reviews the network has never seen before."
      ]
    },
    {
      "cell_type": "code",
      "execution_count": 28,
      "metadata": {
        "id": "QXtfw-OY3WoZ",
        "colab": {
          "base_uri": "https://localhost:8080/"
        },
        "outputId": "f47c9523-e3f3-4564-c2e4-5072a095746f"
      },
      "outputs": [
        {
          "output_type": "stream",
          "name": "stdout",
          "text": [
            "['I love this phone', 'I hate spaghetti', 'Everything was cold', 'Everything was hot exactly as I wanted', 'Everything was green', 'the host seated us immediately', 'they gave us free chocolate cake', 'not sure about the wilted flowers on the table', 'only works when I stand on tippy toes', 'does not work when I stand on my head']\n",
            "\n",
            "HOT OFF THE PRESS! HERE ARE SOME NEWLY MINTED, ABSOLUTELY GENUINE REVIEWS!\n",
            "\n",
            "I love this phone\n",
            "[0.75486577]\n",
            "\n",
            "\n",
            "I hate spaghetti\n",
            "[0.10758078]\n",
            "\n",
            "\n",
            "Everything was cold\n",
            "[0.2767954]\n",
            "\n",
            "\n",
            "Everything was hot exactly as I wanted\n",
            "[0.7176526]\n",
            "\n",
            "\n",
            "Everything was green\n",
            "[0.54356235]\n",
            "\n",
            "\n",
            "the host seated us immediately\n",
            "[0.75486577]\n",
            "\n",
            "\n",
            "they gave us free chocolate cake\n",
            "[0.75486577]\n",
            "\n",
            "\n",
            "not sure about the wilted flowers on the table\n",
            "[0.06791773]\n",
            "\n",
            "\n",
            "only works when I stand on tippy toes\n",
            "[0.75486577]\n",
            "\n",
            "\n",
            "does not work when I stand on my head\n",
            "[0.03060567]\n",
            "\n",
            "\n"
          ]
        }
      ],
      "source": [
        "# Use the model to predict a review   \n",
        "fake_reviews = ['I love this phone', 'I hate spaghetti', \n",
        "                'Everything was cold',\n",
        "                'Everything was hot exactly as I wanted', \n",
        "                'Everything was green', \n",
        "                'the host seated us immediately',\n",
        "                'they gave us free chocolate cake', \n",
        "                'not sure about the wilted flowers on the table',\n",
        "                'only works when I stand on tippy toes', \n",
        "                'does not work when I stand on my head']\n",
        "\n",
        "print(fake_reviews) \n",
        "\n",
        "# Create the sequences\n",
        "padding_type='post'\n",
        "sample_sequences = tokenizer.texts_to_sequences(fake_reviews)\n",
        "fakes_padded = pad_sequences(sample_sequences, padding=padding_type, maxlen=max_length)           \n",
        "\n",
        "print('\\nHOT OFF THE PRESS! HERE ARE SOME NEWLY MINTED, ABSOLUTELY GENUINE REVIEWS!\\n')              \n",
        "\n",
        "classes = model.predict(fakes_padded)\n",
        "\n",
        "# The closer the class is to 1, the more positive the review is deemed to be\n",
        "for x in range(len(fake_reviews)):\n",
        "  print(fake_reviews[x])\n",
        "  print(classes[x])\n",
        "  print('\\n')\n",
        "\n",
        "# Try adding reviews of your own\n",
        "# Add some negative words (such as \"not\") to the good reviews and see what happens\n",
        "# For example:\n",
        "# they gave us free chocolate cake and did not charge us"
      ]
    }
  ]
}